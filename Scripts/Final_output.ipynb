{
  "nbformat": 4,
  "nbformat_minor": 0,
  "metadata": {
    "colab": {
      "provenance": []
    },
    "kernelspec": {
      "name": "python3",
      "display_name": "Python 3"
    },
    "language_info": {
      "name": "python"
    }
  },
  "cells": [
    {
      "cell_type": "code",
      "source": [
        "from openpyxl import Workbook, load_workbook\n",
        "from openpyxl.drawing.image import Image as XLImage\n",
        "from google.colab import files\n",
        "\n",
        "wb = Workbook()\n",
        "wb.remove(wb.active)\n",
        "\n",
        "# Add data sheets\n",
        "for file_name, sheet_name in [\n",
        "    ('Average_Rating_by_Price_Range.xlsx', 'Avg Rating by Price'),\n",
        "    ('Rating_Color_with_Highest_Average_Rating.xlsx', 'Top Rating Color'),\n",
        "    ('model_comparison.xlsx', 'Model Compare'),\n",
        "    ('model_performance.xlsx', 'Model Performance')\n",
        "]:\n",
        "    temp_wb = load_workbook(file_name)\n",
        "    temp_ws = temp_wb.active\n",
        "    new_ws = wb.create_sheet(title=sheet_name)\n",
        "    for row in temp_ws.iter_rows(values_only=True):\n",
        "        new_ws.append(row)\n",
        "\n",
        "# Add charts\n",
        "for img_file, sheet_name in [\n",
        "    ('Table_Booking_Availability.png', 'Table Booking'),\n",
        "    ('Online_Delivery_Availability.png', 'Online Delivery'),\n",
        "    ('Average_Rating_by_Price_Range.png', 'Avg Rating by Price'),\n",
        "    ('Model_Performance_Comparison.png', 'Model Perf Compare'),\n",
        "    ('Restaurant_Clusters.png', 'Restaurant Clusters'),\n",
        "    ('Distribution_of_Ratings.png', 'Rating Distribution'),\n",
        "    ('Count_of_Rating_Categories.png', 'Rating Category Count'),\n",
        "    ('Top_10_Cuisines_by_Average_Rating.png', 'Top Cuisines by Rating'),\n",
        "    ('Top_10_Cities_by_Average_Rating.png', 'Top Cities by Rating')\n",
        "]:\n",
        "    ws = wb.create_sheet(title=sheet_name)\n",
        "    img = XLImage(img_file)\n",
        "    ws.add_image(img, \"B2\")\n",
        "\n",
        "# Save and download\n",
        "wb.save(\"restaurant_dashboard_summary.xlsx\")\n",
        "files.download(\"restaurant_dashboard_summary.xlsx\")\n"
      ],
      "metadata": {
        "colab": {
          "base_uri": "https://localhost:8080/",
          "height": 17
        },
        "id": "8ZLHB7rB3_r8",
        "outputId": "a28ddc95-42d1-4162-abd9-0f6d5a9bb92c"
      },
      "execution_count": null,
      "outputs": [
        {
          "output_type": "display_data",
          "data": {
            "text/plain": [
              "<IPython.core.display.Javascript object>"
            ],
            "application/javascript": [
              "\n",
              "    async function download(id, filename, size) {\n",
              "      if (!google.colab.kernel.accessAllowed) {\n",
              "        return;\n",
              "      }\n",
              "      const div = document.createElement('div');\n",
              "      const label = document.createElement('label');\n",
              "      label.textContent = `Downloading \"${filename}\": `;\n",
              "      div.appendChild(label);\n",
              "      const progress = document.createElement('progress');\n",
              "      progress.max = size;\n",
              "      div.appendChild(progress);\n",
              "      document.body.appendChild(div);\n",
              "\n",
              "      const buffers = [];\n",
              "      let downloaded = 0;\n",
              "\n",
              "      const channel = await google.colab.kernel.comms.open(id);\n",
              "      // Send a message to notify the kernel that we're ready.\n",
              "      channel.send({})\n",
              "\n",
              "      for await (const message of channel.messages) {\n",
              "        // Send a message to notify the kernel that we're ready.\n",
              "        channel.send({})\n",
              "        if (message.buffers) {\n",
              "          for (const buffer of message.buffers) {\n",
              "            buffers.push(buffer);\n",
              "            downloaded += buffer.byteLength;\n",
              "            progress.value = downloaded;\n",
              "          }\n",
              "        }\n",
              "      }\n",
              "      const blob = new Blob(buffers, {type: 'application/binary'});\n",
              "      const a = document.createElement('a');\n",
              "      a.href = window.URL.createObjectURL(blob);\n",
              "      a.download = filename;\n",
              "      div.appendChild(a);\n",
              "      a.click();\n",
              "      div.remove();\n",
              "    }\n",
              "  "
            ]
          },
          "metadata": {}
        },
        {
          "output_type": "display_data",
          "data": {
            "text/plain": [
              "<IPython.core.display.Javascript object>"
            ],
            "application/javascript": [
              "download(\"download_3f21c6b4-b416-4f1d-b57f-f5541ce050c8\", \"restaurant_dashboard_summary.xlsx\", 316680)"
            ]
          },
          "metadata": {}
        }
      ]
    }
  ]
}